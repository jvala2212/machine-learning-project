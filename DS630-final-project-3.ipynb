{
 "cells": [
  {
   "cell_type": "code",
   "execution_count": 1,
   "id": "cf60c4c0",
   "metadata": {},
   "outputs": [],
   "source": [
    "import numpy as np\n",
    "import pandas as pd\n",
    "import matplotlib.pyplot as plt\n",
    "from sklearn.datasets import load_digits\n",
    "from sklearn.model_selection import train_test_split\n",
    "\n",
    "# Load the dataset\n",
    "digits = load_digits()\n",
    "X, y = digits.data, digits.target\n",
    "\n",
    "# Split the dataset into training and test sets\n",
    "X_train, X_test, y_train, y_test = train_test_split(X, y, test_size=0.2, random_state=0)\n"
   ]
  },
  {
   "cell_type": "markdown",
   "id": "4aef33a5",
   "metadata": {},
   "source": [
    "The Elbow Plot is a graphical tool used to find the optimal number of clusters in a dataset by examining the trade-off between the number of clusters and the within-cluster sum of squares (inertia). Here's an analysis of the Elbow Plot you generated:\n",
    "\n",
    "Analysis:\n",
    "\n",
    "The Elbow Plot shows the relationship between the number of clusters (K) and the inertia, which represents the sum of squared distances from each point to its assigned cluster center. The goal is to identify a point on the plot where the reduction in inertia slows down, forming an \"elbow.\" This point is considered an optimal number of clusters.\n",
    "\n",
    "Observation:\n",
    "\n",
    "As the number of clusters increases, the inertia generally decreases. This is expected because more clusters allow for a better fit to the data.\n",
    "The plot exhibits a clear \"elbow\" around K=30, where the rate of decrease in inertia slows down.\n",
    "Interpretation:\n",
    "\n",
    "The \"elbow\" point is a potential indication of the optimal number of clusters. In this case, it suggests that a cluster value around 30 might be appropriate.\n",
    "Beyond this point, the reduction in inertia is not as substantial, and adding more clusters might not significantly improve the model's representation of the data.\n",
    "Considerations:\n",
    "\n",
    "The choice of the optimal number of clusters is somewhat subjective and should be validated with additional insights or domain knowledge.\n",
    "Depending on the specific application, a balance between model complexity and the need for fine-grained clustering should be considered.\n",
    "Decision:\n",
    "\n",
    "Based on the Elbow Plot, a reasonable choice for the number of clusters might be around 30.\n",
    "Remember that the Elbow Method is a heuristic, and the \"elbow\" may not always be clearly defined. It provides a useful visual aid in determining a suitable number of clusters but should be used in conjunction with other considerations and domain knowledge."
   ]
  },
  {
   "cell_type": "code",
   "execution_count": 3,
   "id": "995180a8",
   "metadata": {},
   "outputs": [],
   "source": [
    "num_clusters = 15"
   ]
  },
  {
   "cell_type": "code",
   "execution_count": 4,
   "id": "42c423c5",
   "metadata": {},
   "outputs": [
    {
     "name": "stderr",
     "output_type": "stream",
     "text": [
      "C:\\Users\\Jayesh vala\\anaconda3\\Lib\\site-packages\\sklearn\\cluster\\_kmeans.py:1412: FutureWarning: The default value of `n_init` will change from 10 to 'auto' in 1.4. Set the value of `n_init` explicitly to suppress the warning\n",
      "  super()._check_params_vs_input(X, default_n_init=10)\n"
     ]
    },
    {
     "name": "stdout",
     "output_type": "stream",
     "text": [
      "Distances of the first instance from the centroids: [55.49843401 44.01140655 50.87919636 44.38043848 26.98349118 55.75350374\n",
      " 43.88745854 45.84630107 40.17792871 44.01785728 52.65573908 48.9440342\n",
      " 48.94632907 52.22681325 54.8756621 ]\n"
     ]
    }
   ],
   "source": [
    "kmeans = KMeans(n_clusters=num_clusters, random_state=0)\n",
    "transformed = kmeans.fit_transform(X_train)\n",
    "print(\"Distances of the first instance from the centroids:\", transformed[0])"
   ]
  },
  {
   "cell_type": "markdown",
   "id": "e42892fa",
   "metadata": {},
   "source": [
    "Observation:\n",
    "\n",
    "The distances array contains 15 values, each representing the distance of the first instance from one of the centroids.\n",
    "Interpretation:\n",
    "\n",
    "Smaller distance values indicate that the first instance is closer to the corresponding centroid.\n",
    "Larger distance values suggest that the first instance is farther away from the respective centroids.\n",
    "Individual Distances:\n",
    "\n",
    "The distances range from around 26.98 to 55.75.\n",
    "The smallest distance (26.98) indicates the centroid that is closest to the first instance.\n",
    "The largest distance (55.75) represents the centroid that is farthest from the first instance.\n",
    "Cluster Assignment:\n",
    "\n",
    "The first instance is likely assigned to the cluster associated with the centroid having the smallest distance.\n",
    "Significance:\n",
    "\n",
    "These distances serve as features that capture the proximity of the first instance to different clusters. They can be used as reduced features for training a model.\n",
    "Application:\n",
    "\n",
    "In a clustering scenario, these distances can help identify the cluster to which the first instance is assigned.\n",
    "The clustering results can be used for various applications, such as customer segmentation, anomaly detection, or pattern recognition.\n",
    "Summary:\n",
    "The array of distances provides insights into the spatial relationship between the first instance and the centroids. These distances serve as essential features for subsequent steps, such as model training or further analysis of the clustering results. The smallest distance indicates the most likely cluster assignment for the first instance in the context of the KMeans clustering model."
   ]
  },
  {
   "cell_type": "code",
   "execution_count": 9,
   "id": "0fa10706",
   "metadata": {},
   "outputs": [
    {
     "name": "stdout",
     "output_type": "stream",
     "text": [
      "Predicted Cluster: 4\n"
     ]
    }
   ],
   "source": [
    "predicted_cluster = kmeans.predict(X_train[:1])\n",
    "print(\"Predicted Cluster:\", predicted_cluster[0])"
   ]
  },
  {
   "cell_type": "markdown",
   "id": "5d931849",
   "metadata": {},
   "source": [
    "\n",
    "The predicted cluster number (Cluster 4) indicates the cluster to which the first instance has been assigned by the KMeans clustering model.\n",
    "Significance:\n",
    "\n",
    "The predicted cluster serves as a label or identifier for grouping similar instances based on their proximity in the feature space.\n",
    "Interpretation:\n",
    "\n",
    "In a clustering context, instances within the same cluster are considered more similar to each other than to instances in other clusters.\n",
    "Cluster assignments are valuable for understanding the inherent structure in the data and can be used for further analysis or downstream tasks.\n",
    "Applicat\n",
    "Predicted cluster assignments can be leveraged for tasks like customer segmentation, targeted marketing, or anomaly detection.\n",
    "The information about which cluster the instance belongs to provides insights into the grouping patterns present in the data.\n",
    "Model Utility:\n",
    "\n",
    "The KMeans model, by assigning the first instance to Cluster 4, suggests that the features of this instance align more closely with the characteristics of Cluster 4 than with other clusters.\n",
    "Summary:\n",
    "The predicted cluster assignment (Cluster 4) is a key output of the KMeans clustering algorithm, helping to organize and interpret the structure within the dataset. Further analysis or applications can be based on this clustering result to gain insights into the underlying patterns and relationships in the data.\n"
   ]
  },
  {
   "cell_type": "code",
   "execution_count": 6,
   "id": "2e74bff3",
   "metadata": {},
   "outputs": [],
   "source": [
    "from sklearn.pipeline import Pipeline\n",
    "from sklearn.preprocessing import StandardScaler\n",
    "from sklearn.svm import SVC\n",
    "\n",
    "# Create a pipeline with KMeans, StandardScaler, and SVC\n",
    "pipeline = Pipeline([\n",
    "    ('cluster', KMeans(n_clusters=num_clusters, random_state=0)),\n",
    "    ('scaler', StandardScaler()),\n",
    "    ('svm', SVC(random_state=0))\n",
    "])"
   ]
  },
  {
   "cell_type": "code",
   "execution_count": 7,
   "id": "a6053d3f",
   "metadata": {},
   "outputs": [
    {
     "name": "stderr",
     "output_type": "stream",
     "text": [
      "C:\\Users\\Jayesh vala\\anaconda3\\Lib\\site-packages\\sklearn\\cluster\\_kmeans.py:1412: FutureWarning: The default value of `n_init` will change from 10 to 'auto' in 1.4. Set the value of `n_init` explicitly to suppress the warning\n",
      "  super()._check_params_vs_input(X, default_n_init=10)\n",
      "C:\\Users\\Jayesh vala\\anaconda3\\Lib\\site-packages\\sklearn\\cluster\\_kmeans.py:1412: FutureWarning: The default value of `n_init` will change from 10 to 'auto' in 1.4. Set the value of `n_init` explicitly to suppress the warning\n",
      "  super()._check_params_vs_input(X, default_n_init=10)\n",
      "C:\\Users\\Jayesh vala\\anaconda3\\Lib\\site-packages\\sklearn\\cluster\\_kmeans.py:1412: FutureWarning: The default value of `n_init` will change from 10 to 'auto' in 1.4. Set the value of `n_init` explicitly to suppress the warning\n",
      "  super()._check_params_vs_input(X, default_n_init=10)\n",
      "C:\\Users\\Jayesh vala\\anaconda3\\Lib\\site-packages\\sklearn\\cluster\\_kmeans.py:1412: FutureWarning: The default value of `n_init` will change from 10 to 'auto' in 1.4. Set the value of `n_init` explicitly to suppress the warning\n",
      "  super()._check_params_vs_input(X, default_n_init=10)\n",
      "C:\\Users\\Jayesh vala\\anaconda3\\Lib\\site-packages\\sklearn\\cluster\\_kmeans.py:1412: FutureWarning: The default value of `n_init` will change from 10 to 'auto' in 1.4. Set the value of `n_init` explicitly to suppress the warning\n",
      "  super()._check_params_vs_input(X, default_n_init=10)\n",
      "C:\\Users\\Jayesh vala\\anaconda3\\Lib\\site-packages\\sklearn\\cluster\\_kmeans.py:1412: FutureWarning: The default value of `n_init` will change from 10 to 'auto' in 1.4. Set the value of `n_init` explicitly to suppress the warning\n",
      "  super()._check_params_vs_input(X, default_n_init=10)\n",
      "C:\\Users\\Jayesh vala\\anaconda3\\Lib\\site-packages\\sklearn\\cluster\\_kmeans.py:1412: FutureWarning: The default value of `n_init` will change from 10 to 'auto' in 1.4. Set the value of `n_init` explicitly to suppress the warning\n",
      "  super()._check_params_vs_input(X, default_n_init=10)\n",
      "C:\\Users\\Jayesh vala\\anaconda3\\Lib\\site-packages\\sklearn\\cluster\\_kmeans.py:1412: FutureWarning: The default value of `n_init` will change from 10 to 'auto' in 1.4. Set the value of `n_init` explicitly to suppress the warning\n",
      "  super()._check_params_vs_input(X, default_n_init=10)\n",
      "C:\\Users\\Jayesh vala\\anaconda3\\Lib\\site-packages\\sklearn\\cluster\\_kmeans.py:1412: FutureWarning: The default value of `n_init` will change from 10 to 'auto' in 1.4. Set the value of `n_init` explicitly to suppress the warning\n",
      "  super()._check_params_vs_input(X, default_n_init=10)\n",
      "C:\\Users\\Jayesh vala\\anaconda3\\Lib\\site-packages\\sklearn\\cluster\\_kmeans.py:1412: FutureWarning: The default value of `n_init` will change from 10 to 'auto' in 1.4. Set the value of `n_init` explicitly to suppress the warning\n",
      "  super()._check_params_vs_input(X, default_n_init=10)\n",
      "C:\\Users\\Jayesh vala\\anaconda3\\Lib\\site-packages\\sklearn\\cluster\\_kmeans.py:1412: FutureWarning: The default value of `n_init` will change from 10 to 'auto' in 1.4. Set the value of `n_init` explicitly to suppress the warning\n",
      "  super()._check_params_vs_input(X, default_n_init=10)\n",
      "C:\\Users\\Jayesh vala\\anaconda3\\Lib\\site-packages\\sklearn\\cluster\\_kmeans.py:1412: FutureWarning: The default value of `n_init` will change from 10 to 'auto' in 1.4. Set the value of `n_init` explicitly to suppress the warning\n",
      "  super()._check_params_vs_input(X, default_n_init=10)\n",
      "C:\\Users\\Jayesh vala\\anaconda3\\Lib\\site-packages\\sklearn\\cluster\\_kmeans.py:1412: FutureWarning: The default value of `n_init` will change from 10 to 'auto' in 1.4. Set the value of `n_init` explicitly to suppress the warning\n",
      "  super()._check_params_vs_input(X, default_n_init=10)\n",
      "C:\\Users\\Jayesh vala\\anaconda3\\Lib\\site-packages\\sklearn\\cluster\\_kmeans.py:1412: FutureWarning: The default value of `n_init` will change from 10 to 'auto' in 1.4. Set the value of `n_init` explicitly to suppress the warning\n",
      "  super()._check_params_vs_input(X, default_n_init=10)\n",
      "C:\\Users\\Jayesh vala\\anaconda3\\Lib\\site-packages\\sklearn\\cluster\\_kmeans.py:1412: FutureWarning: The default value of `n_init` will change from 10 to 'auto' in 1.4. Set the value of `n_init` explicitly to suppress the warning\n",
      "  super()._check_params_vs_input(X, default_n_init=10)\n",
      "C:\\Users\\Jayesh vala\\anaconda3\\Lib\\site-packages\\sklearn\\cluster\\_kmeans.py:1412: FutureWarning: The default value of `n_init` will change from 10 to 'auto' in 1.4. Set the value of `n_init` explicitly to suppress the warning\n",
      "  super()._check_params_vs_input(X, default_n_init=10)\n",
      "C:\\Users\\Jayesh vala\\anaconda3\\Lib\\site-packages\\sklearn\\cluster\\_kmeans.py:1412: FutureWarning: The default value of `n_init` will change from 10 to 'auto' in 1.4. Set the value of `n_init` explicitly to suppress the warning\n",
      "  super()._check_params_vs_input(X, default_n_init=10)\n",
      "C:\\Users\\Jayesh vala\\anaconda3\\Lib\\site-packages\\sklearn\\cluster\\_kmeans.py:1412: FutureWarning: The default value of `n_init` will change from 10 to 'auto' in 1.4. Set the value of `n_init` explicitly to suppress the warning\n",
      "  super()._check_params_vs_input(X, default_n_init=10)\n",
      "C:\\Users\\Jayesh vala\\anaconda3\\Lib\\site-packages\\sklearn\\cluster\\_kmeans.py:1412: FutureWarning: The default value of `n_init` will change from 10 to 'auto' in 1.4. Set the value of `n_init` explicitly to suppress the warning\n",
      "  super()._check_params_vs_input(X, default_n_init=10)\n",
      "C:\\Users\\Jayesh vala\\anaconda3\\Lib\\site-packages\\sklearn\\cluster\\_kmeans.py:1412: FutureWarning: The default value of `n_init` will change from 10 to 'auto' in 1.4. Set the value of `n_init` explicitly to suppress the warning\n",
      "  super()._check_params_vs_input(X, default_n_init=10)\n",
      "C:\\Users\\Jayesh vala\\anaconda3\\Lib\\site-packages\\sklearn\\cluster\\_kmeans.py:1412: FutureWarning: The default value of `n_init` will change from 10 to 'auto' in 1.4. Set the value of `n_init` explicitly to suppress the warning\n",
      "  super()._check_params_vs_input(X, default_n_init=10)\n",
      "C:\\Users\\Jayesh vala\\anaconda3\\Lib\\site-packages\\sklearn\\cluster\\_kmeans.py:1412: FutureWarning: The default value of `n_init` will change from 10 to 'auto' in 1.4. Set the value of `n_init` explicitly to suppress the warning\n",
      "  super()._check_params_vs_input(X, default_n_init=10)\n",
      "C:\\Users\\Jayesh vala\\anaconda3\\Lib\\site-packages\\sklearn\\cluster\\_kmeans.py:1412: FutureWarning: The default value of `n_init` will change from 10 to 'auto' in 1.4. Set the value of `n_init` explicitly to suppress the warning\n",
      "  super()._check_params_vs_input(X, default_n_init=10)\n",
      "C:\\Users\\Jayesh vala\\anaconda3\\Lib\\site-packages\\sklearn\\cluster\\_kmeans.py:1412: FutureWarning: The default value of `n_init` will change from 10 to 'auto' in 1.4. Set the value of `n_init` explicitly to suppress the warning\n",
      "  super()._check_params_vs_input(X, default_n_init=10)\n",
      "C:\\Users\\Jayesh vala\\anaconda3\\Lib\\site-packages\\sklearn\\cluster\\_kmeans.py:1412: FutureWarning: The default value of `n_init` will change from 10 to 'auto' in 1.4. Set the value of `n_init` explicitly to suppress the warning\n",
      "  super()._check_params_vs_input(X, default_n_init=10)\n",
      "C:\\Users\\Jayesh vala\\anaconda3\\Lib\\site-packages\\sklearn\\cluster\\_kmeans.py:1412: FutureWarning: The default value of `n_init` will change from 10 to 'auto' in 1.4. Set the value of `n_init` explicitly to suppress the warning\n",
      "  super()._check_params_vs_input(X, default_n_init=10)\n",
      "C:\\Users\\Jayesh vala\\anaconda3\\Lib\\site-packages\\sklearn\\cluster\\_kmeans.py:1412: FutureWarning: The default value of `n_init` will change from 10 to 'auto' in 1.4. Set the value of `n_init` explicitly to suppress the warning\n",
      "  super()._check_params_vs_input(X, default_n_init=10)\n",
      "C:\\Users\\Jayesh vala\\anaconda3\\Lib\\site-packages\\sklearn\\cluster\\_kmeans.py:1412: FutureWarning: The default value of `n_init` will change from 10 to 'auto' in 1.4. Set the value of `n_init` explicitly to suppress the warning\n",
      "  super()._check_params_vs_input(X, default_n_init=10)\n",
      "C:\\Users\\Jayesh vala\\anaconda3\\Lib\\site-packages\\sklearn\\cluster\\_kmeans.py:1412: FutureWarning: The default value of `n_init` will change from 10 to 'auto' in 1.4. Set the value of `n_init` explicitly to suppress the warning\n",
      "  super()._check_params_vs_input(X, default_n_init=10)\n",
      "C:\\Users\\Jayesh vala\\anaconda3\\Lib\\site-packages\\sklearn\\cluster\\_kmeans.py:1412: FutureWarning: The default value of `n_init` will change from 10 to 'auto' in 1.4. Set the value of `n_init` explicitly to suppress the warning\n",
      "  super()._check_params_vs_input(X, default_n_init=10)\n"
     ]
    },
    {
     "name": "stderr",
     "output_type": "stream",
     "text": [
      "C:\\Users\\Jayesh vala\\anaconda3\\Lib\\site-packages\\sklearn\\cluster\\_kmeans.py:1412: FutureWarning: The default value of `n_init` will change from 10 to 'auto' in 1.4. Set the value of `n_init` explicitly to suppress the warning\n",
      "  super()._check_params_vs_input(X, default_n_init=10)\n",
      "C:\\Users\\Jayesh vala\\anaconda3\\Lib\\site-packages\\sklearn\\cluster\\_kmeans.py:1412: FutureWarning: The default value of `n_init` will change from 10 to 'auto' in 1.4. Set the value of `n_init` explicitly to suppress the warning\n",
      "  super()._check_params_vs_input(X, default_n_init=10)\n",
      "C:\\Users\\Jayesh vala\\anaconda3\\Lib\\site-packages\\sklearn\\cluster\\_kmeans.py:1412: FutureWarning: The default value of `n_init` will change from 10 to 'auto' in 1.4. Set the value of `n_init` explicitly to suppress the warning\n",
      "  super()._check_params_vs_input(X, default_n_init=10)\n",
      "C:\\Users\\Jayesh vala\\anaconda3\\Lib\\site-packages\\sklearn\\cluster\\_kmeans.py:1412: FutureWarning: The default value of `n_init` will change from 10 to 'auto' in 1.4. Set the value of `n_init` explicitly to suppress the warning\n",
      "  super()._check_params_vs_input(X, default_n_init=10)\n",
      "C:\\Users\\Jayesh vala\\anaconda3\\Lib\\site-packages\\sklearn\\cluster\\_kmeans.py:1412: FutureWarning: The default value of `n_init` will change from 10 to 'auto' in 1.4. Set the value of `n_init` explicitly to suppress the warning\n",
      "  super()._check_params_vs_input(X, default_n_init=10)\n",
      "C:\\Users\\Jayesh vala\\anaconda3\\Lib\\site-packages\\sklearn\\cluster\\_kmeans.py:1412: FutureWarning: The default value of `n_init` will change from 10 to 'auto' in 1.4. Set the value of `n_init` explicitly to suppress the warning\n",
      "  super()._check_params_vs_input(X, default_n_init=10)\n",
      "C:\\Users\\Jayesh vala\\anaconda3\\Lib\\site-packages\\sklearn\\cluster\\_kmeans.py:1412: FutureWarning: The default value of `n_init` will change from 10 to 'auto' in 1.4. Set the value of `n_init` explicitly to suppress the warning\n",
      "  super()._check_params_vs_input(X, default_n_init=10)\n",
      "C:\\Users\\Jayesh vala\\anaconda3\\Lib\\site-packages\\sklearn\\cluster\\_kmeans.py:1412: FutureWarning: The default value of `n_init` will change from 10 to 'auto' in 1.4. Set the value of `n_init` explicitly to suppress the warning\n",
      "  super()._check_params_vs_input(X, default_n_init=10)\n",
      "C:\\Users\\Jayesh vala\\anaconda3\\Lib\\site-packages\\sklearn\\cluster\\_kmeans.py:1412: FutureWarning: The default value of `n_init` will change from 10 to 'auto' in 1.4. Set the value of `n_init` explicitly to suppress the warning\n",
      "  super()._check_params_vs_input(X, default_n_init=10)\n",
      "C:\\Users\\Jayesh vala\\anaconda3\\Lib\\site-packages\\sklearn\\cluster\\_kmeans.py:1412: FutureWarning: The default value of `n_init` will change from 10 to 'auto' in 1.4. Set the value of `n_init` explicitly to suppress the warning\n",
      "  super()._check_params_vs_input(X, default_n_init=10)\n",
      "C:\\Users\\Jayesh vala\\anaconda3\\Lib\\site-packages\\sklearn\\cluster\\_kmeans.py:1412: FutureWarning: The default value of `n_init` will change from 10 to 'auto' in 1.4. Set the value of `n_init` explicitly to suppress the warning\n",
      "  super()._check_params_vs_input(X, default_n_init=10)\n",
      "C:\\Users\\Jayesh vala\\anaconda3\\Lib\\site-packages\\sklearn\\cluster\\_kmeans.py:1412: FutureWarning: The default value of `n_init` will change from 10 to 'auto' in 1.4. Set the value of `n_init` explicitly to suppress the warning\n",
      "  super()._check_params_vs_input(X, default_n_init=10)\n",
      "C:\\Users\\Jayesh vala\\anaconda3\\Lib\\site-packages\\sklearn\\cluster\\_kmeans.py:1412: FutureWarning: The default value of `n_init` will change from 10 to 'auto' in 1.4. Set the value of `n_init` explicitly to suppress the warning\n",
      "  super()._check_params_vs_input(X, default_n_init=10)\n",
      "C:\\Users\\Jayesh vala\\anaconda3\\Lib\\site-packages\\sklearn\\cluster\\_kmeans.py:1412: FutureWarning: The default value of `n_init` will change from 10 to 'auto' in 1.4. Set the value of `n_init` explicitly to suppress the warning\n",
      "  super()._check_params_vs_input(X, default_n_init=10)\n",
      "C:\\Users\\Jayesh vala\\anaconda3\\Lib\\site-packages\\sklearn\\cluster\\_kmeans.py:1412: FutureWarning: The default value of `n_init` will change from 10 to 'auto' in 1.4. Set the value of `n_init` explicitly to suppress the warning\n",
      "  super()._check_params_vs_input(X, default_n_init=10)\n",
      "C:\\Users\\Jayesh vala\\anaconda3\\Lib\\site-packages\\sklearn\\cluster\\_kmeans.py:1412: FutureWarning: The default value of `n_init` will change from 10 to 'auto' in 1.4. Set the value of `n_init` explicitly to suppress the warning\n",
      "  super()._check_params_vs_input(X, default_n_init=10)\n",
      "C:\\Users\\Jayesh vala\\anaconda3\\Lib\\site-packages\\sklearn\\cluster\\_kmeans.py:1412: FutureWarning: The default value of `n_init` will change from 10 to 'auto' in 1.4. Set the value of `n_init` explicitly to suppress the warning\n",
      "  super()._check_params_vs_input(X, default_n_init=10)\n",
      "C:\\Users\\Jayesh vala\\anaconda3\\Lib\\site-packages\\sklearn\\cluster\\_kmeans.py:1412: FutureWarning: The default value of `n_init` will change from 10 to 'auto' in 1.4. Set the value of `n_init` explicitly to suppress the warning\n",
      "  super()._check_params_vs_input(X, default_n_init=10)\n",
      "C:\\Users\\Jayesh vala\\anaconda3\\Lib\\site-packages\\sklearn\\cluster\\_kmeans.py:1412: FutureWarning: The default value of `n_init` will change from 10 to 'auto' in 1.4. Set the value of `n_init` explicitly to suppress the warning\n",
      "  super()._check_params_vs_input(X, default_n_init=10)\n",
      "C:\\Users\\Jayesh vala\\anaconda3\\Lib\\site-packages\\sklearn\\cluster\\_kmeans.py:1412: FutureWarning: The default value of `n_init` will change from 10 to 'auto' in 1.4. Set the value of `n_init` explicitly to suppress the warning\n",
      "  super()._check_params_vs_input(X, default_n_init=10)\n",
      "C:\\Users\\Jayesh vala\\anaconda3\\Lib\\site-packages\\sklearn\\cluster\\_kmeans.py:1412: FutureWarning: The default value of `n_init` will change from 10 to 'auto' in 1.4. Set the value of `n_init` explicitly to suppress the warning\n",
      "  super()._check_params_vs_input(X, default_n_init=10)\n",
      "C:\\Users\\Jayesh vala\\anaconda3\\Lib\\site-packages\\sklearn\\cluster\\_kmeans.py:1412: FutureWarning: The default value of `n_init` will change from 10 to 'auto' in 1.4. Set the value of `n_init` explicitly to suppress the warning\n",
      "  super()._check_params_vs_input(X, default_n_init=10)\n",
      "C:\\Users\\Jayesh vala\\anaconda3\\Lib\\site-packages\\sklearn\\cluster\\_kmeans.py:1412: FutureWarning: The default value of `n_init` will change from 10 to 'auto' in 1.4. Set the value of `n_init` explicitly to suppress the warning\n",
      "  super()._check_params_vs_input(X, default_n_init=10)\n",
      "C:\\Users\\Jayesh vala\\anaconda3\\Lib\\site-packages\\sklearn\\cluster\\_kmeans.py:1412: FutureWarning: The default value of `n_init` will change from 10 to 'auto' in 1.4. Set the value of `n_init` explicitly to suppress the warning\n",
      "  super()._check_params_vs_input(X, default_n_init=10)\n",
      "C:\\Users\\Jayesh vala\\anaconda3\\Lib\\site-packages\\sklearn\\cluster\\_kmeans.py:1412: FutureWarning: The default value of `n_init` will change from 10 to 'auto' in 1.4. Set the value of `n_init` explicitly to suppress the warning\n",
      "  super()._check_params_vs_input(X, default_n_init=10)\n",
      "C:\\Users\\Jayesh vala\\anaconda3\\Lib\\site-packages\\sklearn\\cluster\\_kmeans.py:1412: FutureWarning: The default value of `n_init` will change from 10 to 'auto' in 1.4. Set the value of `n_init` explicitly to suppress the warning\n",
      "  super()._check_params_vs_input(X, default_n_init=10)\n",
      "C:\\Users\\Jayesh vala\\anaconda3\\Lib\\site-packages\\sklearn\\cluster\\_kmeans.py:1412: FutureWarning: The default value of `n_init` will change from 10 to 'auto' in 1.4. Set the value of `n_init` explicitly to suppress the warning\n",
      "  super()._check_params_vs_input(X, default_n_init=10)\n",
      "C:\\Users\\Jayesh vala\\anaconda3\\Lib\\site-packages\\sklearn\\cluster\\_kmeans.py:1412: FutureWarning: The default value of `n_init` will change from 10 to 'auto' in 1.4. Set the value of `n_init` explicitly to suppress the warning\n",
      "  super()._check_params_vs_input(X, default_n_init=10)\n",
      "C:\\Users\\Jayesh vala\\anaconda3\\Lib\\site-packages\\sklearn\\cluster\\_kmeans.py:1412: FutureWarning: The default value of `n_init` will change from 10 to 'auto' in 1.4. Set the value of `n_init` explicitly to suppress the warning\n",
      "  super()._check_params_vs_input(X, default_n_init=10)\n",
      "C:\\Users\\Jayesh vala\\anaconda3\\Lib\\site-packages\\sklearn\\cluster\\_kmeans.py:1412: FutureWarning: The default value of `n_init` will change from 10 to 'auto' in 1.4. Set the value of `n_init` explicitly to suppress the warning\n",
      "  super()._check_params_vs_input(X, default_n_init=10)\n"
     ]
    },
    {
     "name": "stderr",
     "output_type": "stream",
     "text": [
      "C:\\Users\\Jayesh vala\\anaconda3\\Lib\\site-packages\\sklearn\\cluster\\_kmeans.py:1412: FutureWarning: The default value of `n_init` will change from 10 to 'auto' in 1.4. Set the value of `n_init` explicitly to suppress the warning\n",
      "  super()._check_params_vs_input(X, default_n_init=10)\n",
      "C:\\Users\\Jayesh vala\\anaconda3\\Lib\\site-packages\\sklearn\\cluster\\_kmeans.py:1412: FutureWarning: The default value of `n_init` will change from 10 to 'auto' in 1.4. Set the value of `n_init` explicitly to suppress the warning\n",
      "  super()._check_params_vs_input(X, default_n_init=10)\n",
      "C:\\Users\\Jayesh vala\\anaconda3\\Lib\\site-packages\\sklearn\\cluster\\_kmeans.py:1412: FutureWarning: The default value of `n_init` will change from 10 to 'auto' in 1.4. Set the value of `n_init` explicitly to suppress the warning\n",
      "  super()._check_params_vs_input(X, default_n_init=10)\n",
      "C:\\Users\\Jayesh vala\\anaconda3\\Lib\\site-packages\\sklearn\\cluster\\_kmeans.py:1412: FutureWarning: The default value of `n_init` will change from 10 to 'auto' in 1.4. Set the value of `n_init` explicitly to suppress the warning\n",
      "  super()._check_params_vs_input(X, default_n_init=10)\n",
      "C:\\Users\\Jayesh vala\\anaconda3\\Lib\\site-packages\\sklearn\\cluster\\_kmeans.py:1412: FutureWarning: The default value of `n_init` will change from 10 to 'auto' in 1.4. Set the value of `n_init` explicitly to suppress the warning\n",
      "  super()._check_params_vs_input(X, default_n_init=10)\n"
     ]
    },
    {
     "name": "stdout",
     "output_type": "stream",
     "text": [
      "Best Score: 0.9749497059733828\n",
      "Best Parameters: {'svm__C': 8, 'svm__kernel': 'rbf'}\n"
     ]
    }
   ],
   "source": [
    "from sklearn.model_selection import GridSearchCV\n",
    "\n",
    "# Define hyperparameters to search\n",
    "params = {'svm__C': [1, 5, 8, 10],\n",
    "          'svm__kernel': ['linear', 'poly', 'rbf', 'sigmoid']}\n",
    "\n",
    "# Instantiate GridSearchCV\n",
    "grid_search = GridSearchCV(pipeline, params, cv=4, scoring='accuracy')\n",
    "\n",
    "# Perform grid search on the training set\n",
    "grid_search.fit(X_train, y_train)\n",
    "\n",
    "# Print best score and parameters\n",
    "print(\"Best Score:\", grid_search.best_score_)\n",
    "print(\"Best Parameters:\", grid_search.best_params_)"
   ]
  },
  {
   "cell_type": "markdown",
   "id": "d3881e24",
   "metadata": {},
   "source": [
    "Model Performance:\n",
    "\n",
    "The accuracy score of approximately 97.5% indicates the proportion of correctly predicted instances on the training set.\n",
    "Hyperparameters:\n",
    "\n",
    "The grid search identified the best hyperparameters for the Support Vector Machine (SVM) model within the pipeline. The selected hyperparameters are a regularization parameter (C) of 8 and a radial basis function (rbf) as the kernel.\n",
    "Interpretation:\n",
    "\n",
    "An accuracy score above 97% suggests that the model, configured with the specified hyperparameters, has learned patterns in the training data effectively.\n",
    "Generalization:\n",
    "\n",
    "The selected hyperparameters are expected to generalize well to new, unseen data, as indicated by the high accuracy on the training set. However, the actual generalization should be confirmed on an independent test set.\n",
    "Caveats:\n",
    "\n",
    "While the model performance is promising, it's crucial to evaluate its performance on a separate test set to ensure that it can generalize to new, unseen instances.\n",
    "Considerations:\n",
    "\n",
    "The choice of the radial basis function (RBF) kernel suggests that the decision boundaries created by the SVM model are complex and capable of capturing non-linear relationships in the data.\n",
    "Optimization:\n",
    "\n",
    "The grid search process involved tuning hyperparameters to find the optimal configuration that maximizes the model's accuracy.\n",
    "Pipeline Structure:\n",
    "\n",
    "The pipeline used in this analysis likely includes the steps for clustering, scaling, and training an SVM model. Each step contributes to the overall performance.\n",
    "Conclusion:\n",
    "The SVM model, configured with a regularization parameter (C) of 8 and an RBF kernel, demonstrates strong performance on the training data. However, it is essential to assess its generalization on an independent test set to ensure robust performance in real-world scenarios. The selected hyperparameters reflect a trade-off between model complexity and generalization.\n"
   ]
  },
  {
   "cell_type": "code",
   "execution_count": 8,
   "id": "4cf80a63",
   "metadata": {},
   "outputs": [
    {
     "name": "stdout",
     "output_type": "stream",
     "text": [
      "Accuracy on Test Set: 0.9722222222222222\n"
     ]
    }
   ],
   "source": [
    "from sklearn.metrics import accuracy_score\n",
    "\n",
    "# Evaluate the best estimator on the test set\n",
    "y_pred = grid_search.best_estimator_.predict(X_test)\n",
    "accuracy = accuracy_score(y_test, y_pred)\n",
    "print(\"Accuracy on Test Set:\", accuracy)"
   ]
  },
  {
   "cell_type": "markdown",
   "id": "c96160c2",
   "metadata": {},
   "source": [
    "Generalization:\n",
    "\n",
    "The accuracy on the test set, around 97.22%, indicates that the model generalizes well to new, unseen data. This suggests that the patterns learned during training are applicable to instances not seen during the model's learning phase.\n",
    "Consistency:\n",
    "\n",
    "The test set accuracy is consistent with the high accuracy observed on the training set, which was approximately 97.5%. This consistency suggests that the model did not overfit to the training data and is capable of making accurate predictions on diverse instances.\n",
    "Model Robustness:\n",
    "\n",
    "The model, configured with the identified hyperparameters (C=8, kernel='rbf'), maintains its effectiveness when exposed to new data. The selected hyperparameters seem to strike a good balance between capturing patterns in the training data and generalizing well to unseen instances.\n",
    "Real-world Applicability:\n",
    "\n",
    "The high accuracy on the test set enhances confidence in deploying the model to make predictions on new, real-world instances. However, it's important to continuously monitor and evaluate the model's performance in production to ensure its ongoing effectiveness.\n",
    "Implications:\n",
    "\n",
    "Achieving an accuracy of 97.22% on the test set is a positive outcome, indicating the potential utility of the model in applications such as digit classification. The model's success in accurately classifying handwritten digits suggests its robustness in scenarios where such tasks are relevant.\n",
    "Considerations:\n",
    "\n",
    "Despite strong performance, it's essential to consider the context and specific requirements of the application. Depending on the consequences of false positives or false negatives, additional evaluation metrics and fine-tuning may be necessary.\n",
    "Next Steps:\n",
    "\n",
    "Further analysis could involve exploring additional evaluation metrics such as precision, recall, and F1 score to gain a more comprehensive understanding of the model's performance, especially if there are imbalances in the distribution of classes.\n",
    "Conclusion:\n",
    "The accuracy of approximately 97.22% on the test set reaffirms the effectiveness of the SVM model for digit classification. This performance suggests that the model, trained with carefully chosen hyperparameters, is well-suited for practical applications involving handwritten digit recognition. Ongoing monitoring and periodic reevaluation may be beneficial to ensure continued success in real-world scenarios."
   ]
  }
 ],
 "metadata": {
  "kernelspec": {
   "display_name": "Python 3 (ipykernel)",
   "language": "python",
   "name": "python3"
  },
  "language_info": {
   "codemirror_mode": {
    "name": "ipython",
    "version": 3
   },
   "file_extension": ".py",
   "mimetype": "text/x-python",
   "name": "python",
   "nbconvert_exporter": "python",
   "pygments_lexer": "ipython3",
   "version": "3.11.5"
  }
 },
 "nbformat": 4,
 "nbformat_minor": 5
}
