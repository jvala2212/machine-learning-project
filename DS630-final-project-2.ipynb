{
 "cells": [
  {
   "cell_type": "code",
   "execution_count": 1,
   "id": "85a52523",
   "metadata": {},
   "outputs": [],
   "source": [
    "# Task 1\n",
    "import numpy as np\n",
    "import pandas as pd\n",
    "import matplotlib.pyplot as plt\n",
    "from sklearn.datasets import load_digits\n",
    "from sklearn.model_selection import train_test_split\n",
    "\n",
    "digits = load_digits()\n",
    "X, y = digits.data, digits.target"
   ]
  },
  {
   "cell_type": "code",
   "execution_count": 2,
   "id": "ba9e5c8e",
   "metadata": {},
   "outputs": [
    {
     "data": {
      "image/png": "[encoded data removed]",
      "text/plain": [
       "<Figure size 640x480 with 1 Axes>"
      ]
     },
     "metadata": {},
     "output_type": "display_data"
    }
   ],
   "source": [
    "# Task 2\n",
    "some_digit = X[0].reshape(8, 8)\n",
    "plt.imshow(some_digit, cmap='gray')\n",
    "plt.show()\n"
   ]
  },
  {
   "cell_type": "code",
   "execution_count": 3,
   "id": "7b5ae3f8",
   "metadata": {},
   "outputs": [
    {
     "name": "stdout",
     "output_type": "stream",
     "text": [
      "Label of the first instance: 0\n"
     ]
    }
   ],
   "source": [
    "# Task 3\n",
    "print(f\"Label of the first instance: {y[0]}\")"
   ]
  },
  {
   "cell_type": "code",
   "execution_count": 4,
   "id": "18376f2b",
   "metadata": {},
   "outputs": [],
   "source": [
    "# Task 4\n",
    "X_train, X_test, y_train, y_test = train_test_split(X, y, test_size=0.2, random_state=0)"
   ]
  },
  {
   "cell_type": "code",
   "execution_count": 5,
   "id": "20145815",
   "metadata": {},
   "outputs": [],
   "source": [
    "# Task 5\n",
    "from sklearn.preprocessing import StandardScaler\n",
    "from sklearn.decomposition import PCA\n",
    "from sklearn.svm import SVC\n",
    "from sklearn.pipeline import Pipeline\n",
    "\n",
    "pipeline = Pipeline([\n",
    "    ('scaler', StandardScaler()),\n",
    "    ('pca', PCA(n_components=0.95)),\n",
    "    ('svm', SVC(random_state=0))\n",
    "])"
   ]
  },
  {
   "cell_type": "code",
   "execution_count": 6,
   "id": "9fec201c",
   "metadata": {},
   "outputs": [
    {
     "name": "stdout",
     "output_type": "stream",
     "text": [
      "Best Score: 0.9860820953265242\n",
      "Best Parameters: {'svm__C': 8, 'svm__kernel': 'poly'}\n"
     ]
    }
   ],
   "source": [
    "# Task 6\n",
    "from sklearn.model_selection import GridSearchCV\n",
    "\n",
    "params = {'svm__C': [1, 5, 8, 10], 'svm__kernel': ['linear', 'poly', 'rbf', 'sigmoid']}\n",
    "\n",
    "grid_search = GridSearchCV(pipeline, param_grid=params, cv=4, scoring='accuracy')\n",
    "grid_search.fit(X_train, y_train)\n",
    "\n",
    "print(f\"Best Score: {grid_search.best_score_}\")\n",
    "print(f\"Best Parameters: {grid_search.best_params_}\")"
   ]
  },
  {
   "cell_type": "markdown",
   "id": "e4ff2e65",
   "metadata": {},
   "source": [
    "Best Score: 0.9861\n",
    "\n",
    "The best cross-validated accuracy achieved on the training set is approximately 98.61%. This indicates that the SVM model, with the selected hyperparameters, performs exceptionally well on the training data.\n",
    "Best Parameters:\n",
    "\n",
    "C (Regularization Parameter): 8\n",
    "The regularization parameter (C) determines the trade-off between achieving a smooth decision boundary and classifying training points correctly. A higher C emphasizes classifying points correctly, potentially leading to a more complex decision boundary.\n",
    "Kernel Function: 'poly'\n",
    "The polynomial kernel has been chosen as the best kernel function. This indicates that, according to the cross-validation results, a polynomial kernel provides the optimal balance between capturing complex relationships in the data and preventing overfitting.\n",
    "Analysis:\n",
    "\n",
    "High Accuracy:\n",
    "\n",
    "The high cross-validated accuracy score (98.61%) suggests that the model generalizes well on the training set. However, it's crucial to assess its performance on unseen data.\n",
    "Optimal Hyperparameters:\n",
    "\n",
    "The choice of a polynomial kernel with a regularization parameter (C) of 8 indicates that the model should be flexible enough to capture complex patterns in the data while avoiding overfitting.\n",
    "Consideration for Further Evaluation:\n",
    "\n",
    "While the model shows excellent performance on the training set, it's essential to evaluate it on the test set to ensure its generalization to new, unseen data.\n",
    "In conclusion, the grid search has identified hyperparameters that yield a highly accurate SVM model on the training data. The next step would be to evaluate this model on the test set to assess its real-world performance and generalization capabilities.\n"
   ]
  },
  {
   "cell_type": "code",
   "execution_count": 7,
   "id": "fec2e9a4",
   "metadata": {},
   "outputs": [
    {
     "name": "stdout",
     "output_type": "stream",
     "text": [
      "Variance Explained by Each Component:\n",
      "[0.12164624 0.09634853 0.08578334 0.06457027 0.04897962 0.04183235\n",
      " 0.03929765 0.03282099 0.02979124 0.02809632 0.02741238 0.02602094\n",
      " 0.02304403 0.02207157 0.02049244 0.01784251 0.01735509 0.01662399\n",
      " 0.01624181 0.01510787 0.01347544 0.01294908 0.0117134  0.01062522\n",
      " 0.01039421 0.00941729 0.00932626 0.00840604 0.00827709 0.00789892\n",
      " 0.00749741 0.00715596 0.00665508 0.00641068 0.00594299 0.00567498\n",
      " 0.00514703 0.00473037 0.00454567 0.00420127]\n",
      "Number of Components: 40\n"
     ]
    }
   ],
   "source": [
    "# Task 7\n",
    "best_estimator = grid_search.best_estimator_\n",
    "pca_variance_ratios = best_estimator.named_steps['pca'].explained_variance_ratio_\n",
    "print(\"Variance Explained by Each Component:\")\n",
    "print(pca_variance_ratios)\n",
    "print(f\"Number of Components: {len(pca_variance_ratios)}\")"
   ]
  },
  {
   "cell_type": "markdown",
   "id": "81aeccc9",
   "metadata": {},
   "source": [
    "Variance Explained by Each Component:\n",
    "\n",
    "The list represents the variance explained by each principal component after applying Principal Component Analysis (PCA). Additionally, the total number of components selected by PCA is 40.\n",
    "\n",
    "Analysis:\n",
    "\n",
    "Cumulative Variance:\n",
    "\n",
    "The cumulative variance explained by the components is a crucial metric. By summing up the explained variances from the first component to the last, we can assess how much of the total variance in the original data is retained. In this case, you might want to check the cumulative variance to understand how well the selected 40 components capture the overall variability.\n",
    "Individual Component Contribution:\n",
    "\n",
    "Each value in the list indicates the proportion of variance explained by a single principal component. Higher values suggest that the corresponding component retains more information from the original dataset.\n",
    "Number of Components:\n",
    "\n",
    "The choice of 40 components is a balance between dimensionality reduction and retaining sufficient information. The explained variance plot is often used to determine the optimal number of components. It shows the diminishing returns in terms of variance explained as you include more components.\n",
    "Dimensionality Reduction:\n",
    "\n",
    "The goal of PCA is often to reduce the dimensionality of the data while retaining as much information as possible. With 40 components, you've significantly reduced the feature space from the original 64 features. This can be beneficial for training models more efficiently and mitigating the curse of dimensionality.\n",
    "Interpretability:\n",
    "\n",
    "Each principal component is a linear combination of the original features. While they may not have a direct interpretation like the original features, you can investigate which original features contribute most to each principal component. This can provide insights into the underlying structure of the data.\n",
    "In conclusion, PCA with 40 components retains a substantial amount of variance from the original dataset, enabling effective dimensionality reduction. The choice of the number of components should be guided by a trade-off between reducing dimensionality and maintaining sufficient information for the specific task or analysis."
   ]
  },
  {
   "cell_type": "code",
   "execution_count": 8,
   "id": "7d124e68",
   "metadata": {},
   "outputs": [
    {
     "name": "stdout",
     "output_type": "stream",
     "text": [
      "Accuracy on Test Set: 0.9833333333333333\n"
     ]
    }
   ],
   "source": [
    "# Task 8\n",
    "from sklearn.metrics import accuracy_score\n",
    "\n",
    "y_pred = best_estimator.predict(X_test)\n",
    "accuracy = accuracy_score(y_test, y_pred)\n",
    "print(f\"Accuracy on Test Set: {accuracy}\")"
   ]
  },
  {
   "cell_type": "markdown",
   "id": "bc5876f1",
   "metadata": {},
   "source": [
    "The accuracy achieved on the test set is 0.9833, which translates to 98.33%. Here's an analysis of the result:\n",
    "\n",
    "High Accuracy:\n",
    "\n",
    "An accuracy of 98.33% is exceptionally high and indicates that the model performs very well on the unseen test data. This suggests that the model has successfully generalized from the training data to make accurate predictions on new, previously unseen instances.\n",
    "Reliable Generalization:\n",
    "\n",
    "The high accuracy on the test set demonstrates the robustness of the model. It has learned patterns from the training data that are applicable to new, similar instances. This reliability in generalization is a key indicator of a well-performing model.\n",
    "Effective Feature Representation:\n",
    "\n",
    "PCA, by reducing the dimensionality of the data while retaining important information, seems to have created an effective feature representation. The reduced feature set derived from PCA is able to capture the essential patterns for distinguishing between different digits.\n",
    "Applicability to Real-World Scenarios:\n",
    "\n",
    "In tasks like digit recognition, achieving a high accuracy on the test set is crucial for real-world applications. A model with such high accuracy can be considered reliable for deployment in scenarios where automated digit recognition is required.\n",
    "Potential for Further Analysis:\n",
    "\n",
    "While accuracy is a fundamental metric, it's also valuable to explore other metrics like precision, recall, and F1 score, especially in situations where imbalances exist between the classes. Additionally, visually inspecting misclassified instances or exploring a confusion matrix can provide insights into the model's specific strengths and weaknesses.\n",
    "Consideration of Business Requirements:\n",
    "\n",
    "The choice of metrics and the acceptable level of accuracy depends on the specific requirements of the application. In some cases, extremely high accuracy may be critical, while in others, the emphasis might be on minimizing false positives or false negatives.\n",
    "In summary, the achieved accuracy of 98.33% on the test set indicates a well-performing model, and further analysis, as well as consideration of specific business needs, can provide a more comprehensive understanding of its strengths and limitations."
   ]
  }
 ],
 "metadata": {
  "kernelspec": {
   "display_name": "Python 3 (ipykernel)",
   "language": "python",
   "name": "python3"
  },
  "language_info": {
   "codemirror_mode": {
    "name": "ipython",
    "version": 3
   },
   "file_extension": ".py",
   "mimetype": "text/x-python",
   "name": "python",
   "nbconvert_exporter": "python",
   "pygments_lexer": "ipython3",
   "version": "3.11.5"
  }
 },
 "nbformat": 4,
 "nbformat_minor": 5
}
